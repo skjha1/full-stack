{
 "cells": [
  {
   "cell_type": "markdown",
   "metadata": {},
   "source": [
    "BASIC INTRODUCTION TO LISTS,TUPLES,DICTIONARY,ITERABLES"
   ]
  },
  {
   "cell_type": "code",
   "execution_count": 1,
   "metadata": {},
   "outputs": [
    {
     "name": "stdout",
     "output_type": "stream",
     "text": [
      "[1, 2, 3]\n"
     ]
    }
   ],
   "source": [
    "# list can be thought of as an array of elements\n",
    "\n",
    "\n",
    "li = [] # empty list\n",
    "\n",
    "# adding some elements in a list using append method\n",
    "\n",
    "li.append(1)\n",
    "li.append(2)\n",
    "li.append(3)\n",
    "\n",
    "print(li)"
   ]
  },
  {
   "cell_type": "code",
   "execution_count": 2,
   "metadata": {},
   "outputs": [
    {
     "name": "stdout",
     "output_type": "stream",
     "text": [
      "[1, 2, 3, 'batman', 'superman']\n"
     ]
    }
   ],
   "source": [
    "# We can add elements of different types as well\n",
    "\n",
    "li.append('batman')\n",
    "li.append('superman')\n",
    "\n",
    "print(li)"
   ]
  },
  {
   "cell_type": "code",
   "execution_count": 3,
   "metadata": {},
   "outputs": [
    {
     "name": "stdout",
     "output_type": "stream",
     "text": [
      "superman\n"
     ]
    }
   ],
   "source": [
    "# To access any element in a list, we simply index it using its position\n",
    "# Remember indexing starts from 0\n",
    "\n",
    "\n",
    "# let us fetch the record superman\n",
    "\n",
    "print(li[4]) "
   ]
  },
  {
   "cell_type": "code",
   "execution_count": 4,
   "metadata": {},
   "outputs": [
    {
     "name": "stdout",
     "output_type": "stream",
     "text": [
      "[1, 2, 3, 'batman', 'aquaman']\n"
     ]
    }
   ],
   "source": [
    "# We can change any entry in the list using the = operator\n",
    "\n",
    "\n",
    "li[4] = 'aquaman'\n",
    "\n",
    "print(li)"
   ]
  },
  {
   "cell_type": "code",
   "execution_count": 23,
   "metadata": {},
   "outputs": [
    {
     "name": "stdout",
     "output_type": "stream",
     "text": [
      "(1, 2, 3)\n",
      "0x1a37693e1d8\n"
     ]
    }
   ],
   "source": [
    "# Tuples - Just like lists tuples also are a collection of data points. But once created we cannot modify them(like add,update)\n",
    "\n",
    "tu = (1,2,3)\n",
    "print(tu)\n",
    "\n",
    "print(hex(id(tu))) # Notice the address here"
   ]
  },
  {
   "cell_type": "code",
   "execution_count": 24,
   "metadata": {},
   "outputs": [],
   "source": [
    "tu = tu + (4,) # We can merge tuples but it creates a new one actually internally"
   ]
  },
  {
   "cell_type": "code",
   "execution_count": 25,
   "metadata": {},
   "outputs": [
    {
     "data": {
      "text/plain": [
       "(1, 2, 3, 4)"
      ]
     },
     "execution_count": 25,
     "metadata": {},
     "output_type": "execute_result"
    }
   ],
   "source": [
    "tu"
   ]
  },
  {
   "cell_type": "code",
   "execution_count": 26,
   "metadata": {},
   "outputs": [
    {
     "data": {
      "text/plain": [
       "'0x1a376abf2c8'"
      ]
     },
     "execution_count": 26,
     "metadata": {},
     "output_type": "execute_result"
    }
   ],
   "source": [
    "hex(id(tu)) # see this is a new address"
   ]
  },
  {
   "cell_type": "code",
   "execution_count": 28,
   "metadata": {},
   "outputs": [
    {
     "name": "stdout",
     "output_type": "stream",
     "text": [
      "{1, 2, 3}\n"
     ]
    }
   ],
   "source": [
    "# Set - Collection of elements again. But set only stores unique elements\n",
    "\n",
    "\n",
    "st = set()\n",
    "st.add(1)\n",
    "st.add(1)\n",
    "st.add(2)\n",
    "st.add(3)\n",
    "\n",
    "print(st)"
   ]
  },
  {
   "cell_type": "code",
   "execution_count": 29,
   "metadata": {},
   "outputs": [
    {
     "name": "stdout",
     "output_type": "stream",
     "text": [
      "{'dc': 'batman', 'marvel': 'wolverine', 'starwars': 'anakin'}\n"
     ]
    }
   ],
   "source": [
    "# Dictionary stores the elements in a key value pair.\n",
    "\n",
    "mapper = {}\n",
    "\n",
    "mapper['dc'] = 'batman'\n",
    "mapper['marvel'] = 'wolverine'\n",
    "mapper['starwars'] = 'anakin'\n",
    "\n",
    "\n",
    "print(mapper)"
   ]
  },
  {
   "cell_type": "code",
   "execution_count": 31,
   "metadata": {},
   "outputs": [
    {
     "name": "stdout",
     "output_type": "stream",
     "text": [
      "dc batman\n",
      "marvel wolverine\n",
      "starwars anakin\n"
     ]
    }
   ],
   "source": [
    "# Looping in the elements\n",
    "\n",
    "for k,v in mapper.items():\n",
    "    print(k,v)"
   ]
  },
  {
   "cell_type": "code",
   "execution_count": 32,
   "metadata": {},
   "outputs": [
    {
     "name": "stdout",
     "output_type": "stream",
     "text": [
      "dict_keys(['dc', 'marvel', 'starwars'])\n",
      "dict_values(['batman', 'wolverine', 'anakin'])\n"
     ]
    }
   ],
   "source": [
    "# Let's see the keys and values of the mapper\n",
    "\n",
    "print(mapper.keys())\n",
    "print(mapper.values())"
   ]
  },
  {
   "cell_type": "code",
   "execution_count": null,
   "metadata": {},
   "outputs": [],
   "source": []
  }
 ],
 "metadata": {
  "kernelspec": {
   "display_name": "Python 3",
   "language": "python",
   "name": "python3"
  },
  "language_info": {
   "codemirror_mode": {
    "name": "ipython",
    "version": 3
   },
   "file_extension": ".py",
   "mimetype": "text/x-python",
   "name": "python",
   "nbconvert_exporter": "python",
   "pygments_lexer": "ipython3",
   "version": "3.8.8"
  }
 },
 "nbformat": 4,
 "nbformat_minor": 4
}
